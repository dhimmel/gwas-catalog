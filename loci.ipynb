{
 "cells": [
  {
   "cell_type": "code",
   "execution_count": 1,
   "metadata": {
    "collapsed": false
   },
   "outputs": [],
   "source": [
    "import pandas"
   ]
  },
  {
   "cell_type": "code",
   "execution_count": 2,
   "metadata": {
    "collapsed": false
   },
   "outputs": [],
   "source": [
    "# Read EBI's GWAS Catalog with ontology annotations\n",
    "path = 'download/gwas_catalog_v1.0.1-downloaded_2015-06-08.tsv.gz'\n",
    "ebi_df = pandas.read_table(path, compression='gzip', low_memory=False)"
   ]
  },
  {
   "cell_type": "code",
   "execution_count": 3,
   "metadata": {
    "collapsed": false
   },
   "outputs": [
    {
     "data": {
      "text/html": [
       "<div style=\"max-height:1000px;max-width:1500px;overflow:auto;\">\n",
       "<table border=\"1\" class=\"dataframe\">\n",
       "  <thead>\n",
       "    <tr style=\"text-align: right;\">\n",
       "      <th></th>\n",
       "      <th>DATE ADDED TO CATALOG</th>\n",
       "      <th>PUBMEDID</th>\n",
       "      <th>FIRST AUTHOR</th>\n",
       "      <th>DATE</th>\n",
       "      <th>JOURNAL</th>\n",
       "      <th>LINK</th>\n",
       "      <th>STUDY</th>\n",
       "      <th>DISEASE/TRAIT</th>\n",
       "      <th>INITIAL SAMPLE DESCRIPTION</th>\n",
       "      <th>REPLICATION SAMPLE DESCRIPTION</th>\n",
       "      <th>...</th>\n",
       "      <th>RISK ALLELE FREQUENCY</th>\n",
       "      <th>P-VALUE</th>\n",
       "      <th>PVALUE_MLOG</th>\n",
       "      <th>P-VALUE (TEXT)</th>\n",
       "      <th>OR or BETA</th>\n",
       "      <th>95% CI (TEXT)</th>\n",
       "      <th>PLATFORM [SNPS PASSING QC]</th>\n",
       "      <th>CNV</th>\n",
       "      <th>MAPPED_TRAIT</th>\n",
       "      <th>MAPPED_TRAIT_URI</th>\n",
       "    </tr>\n",
       "  </thead>\n",
       "  <tbody>\n",
       "    <tr>\n",
       "      <th>0</th>\n",
       "      <td>NaN</td>\n",
       "      <td>25231870</td>\n",
       "      <td>Perry JR</td>\n",
       "      <td>23-Jul-2014</td>\n",
       "      <td>Nature</td>\n",
       "      <td>http://europepmc.org/abstract/MED/25231870</td>\n",
       "      <td>Parent-of-origin-specific allelic associations...</td>\n",
       "      <td>Menarche (age at onset)</td>\n",
       "      <td>Up to 182,413 European ancestry women</td>\n",
       "      <td>NaN</td>\n",
       "      <td>...</td>\n",
       "      <td>0.47</td>\n",
       "      <td>2.000000e-12</td>\n",
       "      <td>11.698970004336019</td>\n",
       "      <td>NaN</td>\n",
       "      <td>0.04</td>\n",
       "      <td>[0.03-0.05] (unit increase)</td>\n",
       "      <td>Illumina &amp; Affymetrix [2,441,815] (imputed)</td>\n",
       "      <td>N</td>\n",
       "      <td>age at menarche</td>\n",
       "      <td>http://www.ebi.ac.uk/efo/EFO_0004703</td>\n",
       "    </tr>\n",
       "    <tr>\n",
       "      <th>1</th>\n",
       "      <td>NaN</td>\n",
       "      <td>25231870</td>\n",
       "      <td>Perry JR</td>\n",
       "      <td>23-Jul-2014</td>\n",
       "      <td>Nature</td>\n",
       "      <td>http://europepmc.org/abstract/MED/25231870</td>\n",
       "      <td>Parent-of-origin-specific allelic associations...</td>\n",
       "      <td>Menarche (age at onset)</td>\n",
       "      <td>Up to 182,413 European ancestry women</td>\n",
       "      <td>NaN</td>\n",
       "      <td>...</td>\n",
       "      <td>0.29</td>\n",
       "      <td>7.000000e-20</td>\n",
       "      <td>19.154901959985743</td>\n",
       "      <td>NaN</td>\n",
       "      <td>0.05</td>\n",
       "      <td>[0.038-0.062] (unit increase)</td>\n",
       "      <td>Illumina &amp; Affymetrix [2,441,815] (imputed)</td>\n",
       "      <td>N</td>\n",
       "      <td>age at menarche</td>\n",
       "      <td>http://www.ebi.ac.uk/efo/EFO_0004703</td>\n",
       "    </tr>\n",
       "    <tr>\n",
       "      <th>2</th>\n",
       "      <td>NaN</td>\n",
       "      <td>25231870</td>\n",
       "      <td>Perry JR</td>\n",
       "      <td>23-Jul-2014</td>\n",
       "      <td>Nature</td>\n",
       "      <td>http://europepmc.org/abstract/MED/25231870</td>\n",
       "      <td>Parent-of-origin-specific allelic associations...</td>\n",
       "      <td>Menarche (age at onset)</td>\n",
       "      <td>Up to 182,413 European ancestry women</td>\n",
       "      <td>NaN</td>\n",
       "      <td>...</td>\n",
       "      <td>0.29</td>\n",
       "      <td>7.000000e-20</td>\n",
       "      <td>19.154901959985743</td>\n",
       "      <td>NaN</td>\n",
       "      <td>0.05</td>\n",
       "      <td>[0.038-0.062] (unit increase)</td>\n",
       "      <td>Illumina &amp; Affymetrix [2,441,815] (imputed)</td>\n",
       "      <td>N</td>\n",
       "      <td>age at menarche</td>\n",
       "      <td>http://www.ebi.ac.uk/efo/EFO_0004703</td>\n",
       "    </tr>\n",
       "    <tr>\n",
       "      <th>3</th>\n",
       "      <td>NaN</td>\n",
       "      <td>25231870</td>\n",
       "      <td>Perry JR</td>\n",
       "      <td>23-Jul-2014</td>\n",
       "      <td>Nature</td>\n",
       "      <td>http://europepmc.org/abstract/MED/25231870</td>\n",
       "      <td>Parent-of-origin-specific allelic associations...</td>\n",
       "      <td>Menarche (age at onset)</td>\n",
       "      <td>Up to 182,413 European ancestry women</td>\n",
       "      <td>NaN</td>\n",
       "      <td>...</td>\n",
       "      <td>0.46</td>\n",
       "      <td>3.000000e-08</td>\n",
       "      <td>7.522878745280337</td>\n",
       "      <td>NaN</td>\n",
       "      <td>0.03</td>\n",
       "      <td>[0.02-0.04] (unit increase)</td>\n",
       "      <td>Illumina &amp; Affymetrix [2,441,815] (imputed)</td>\n",
       "      <td>N</td>\n",
       "      <td>age at menarche</td>\n",
       "      <td>http://www.ebi.ac.uk/efo/EFO_0004703</td>\n",
       "    </tr>\n",
       "    <tr>\n",
       "      <th>4</th>\n",
       "      <td>NaN</td>\n",
       "      <td>25231870</td>\n",
       "      <td>Perry JR</td>\n",
       "      <td>23-Jul-2014</td>\n",
       "      <td>Nature</td>\n",
       "      <td>http://europepmc.org/abstract/MED/25231870</td>\n",
       "      <td>Parent-of-origin-specific allelic associations...</td>\n",
       "      <td>Menarche (age at onset)</td>\n",
       "      <td>Up to 182,413 European ancestry women</td>\n",
       "      <td>NaN</td>\n",
       "      <td>...</td>\n",
       "      <td>0.46</td>\n",
       "      <td>3.000000e-08</td>\n",
       "      <td>7.522878745280337</td>\n",
       "      <td>NaN</td>\n",
       "      <td>0.03</td>\n",
       "      <td>[0.02-0.04] (unit increase)</td>\n",
       "      <td>Illumina &amp; Affymetrix [2,441,815] (imputed)</td>\n",
       "      <td>N</td>\n",
       "      <td>age at menarche</td>\n",
       "      <td>http://www.ebi.ac.uk/efo/EFO_0004703</td>\n",
       "    </tr>\n",
       "  </tbody>\n",
       "</table>\n",
       "<p>5 rows × 36 columns</p>\n",
       "</div>"
      ],
      "text/plain": [
       "  DATE ADDED TO CATALOG  PUBMEDID FIRST AUTHOR         DATE JOURNAL  \\\n",
       "0                   NaN  25231870     Perry JR  23-Jul-2014  Nature   \n",
       "1                   NaN  25231870     Perry JR  23-Jul-2014  Nature   \n",
       "2                   NaN  25231870     Perry JR  23-Jul-2014  Nature   \n",
       "3                   NaN  25231870     Perry JR  23-Jul-2014  Nature   \n",
       "4                   NaN  25231870     Perry JR  23-Jul-2014  Nature   \n",
       "\n",
       "                                         LINK  \\\n",
       "0  http://europepmc.org/abstract/MED/25231870   \n",
       "1  http://europepmc.org/abstract/MED/25231870   \n",
       "2  http://europepmc.org/abstract/MED/25231870   \n",
       "3  http://europepmc.org/abstract/MED/25231870   \n",
       "4  http://europepmc.org/abstract/MED/25231870   \n",
       "\n",
       "                                               STUDY            DISEASE/TRAIT  \\\n",
       "0  Parent-of-origin-specific allelic associations...  Menarche (age at onset)   \n",
       "1  Parent-of-origin-specific allelic associations...  Menarche (age at onset)   \n",
       "2  Parent-of-origin-specific allelic associations...  Menarche (age at onset)   \n",
       "3  Parent-of-origin-specific allelic associations...  Menarche (age at onset)   \n",
       "4  Parent-of-origin-specific allelic associations...  Menarche (age at onset)   \n",
       "\n",
       "              INITIAL SAMPLE DESCRIPTION REPLICATION SAMPLE DESCRIPTION  \\\n",
       "0  Up to 182,413 European ancestry women                            NaN   \n",
       "1  Up to 182,413 European ancestry women                            NaN   \n",
       "2  Up to 182,413 European ancestry women                            NaN   \n",
       "3  Up to 182,413 European ancestry women                            NaN   \n",
       "4  Up to 182,413 European ancestry women                            NaN   \n",
       "\n",
       "                   ...                  RISK ALLELE FREQUENCY       P-VALUE  \\\n",
       "0                  ...                                   0.47  2.000000e-12   \n",
       "1                  ...                                   0.29  7.000000e-20   \n",
       "2                  ...                                   0.29  7.000000e-20   \n",
       "3                  ...                                   0.46  3.000000e-08   \n",
       "4                  ...                                   0.46  3.000000e-08   \n",
       "\n",
       "          PVALUE_MLOG P-VALUE (TEXT) OR or BETA  \\\n",
       "0  11.698970004336019            NaN       0.04   \n",
       "1  19.154901959985743            NaN       0.05   \n",
       "2  19.154901959985743            NaN       0.05   \n",
       "3   7.522878745280337            NaN       0.03   \n",
       "4   7.522878745280337            NaN       0.03   \n",
       "\n",
       "                   95% CI (TEXT)                   PLATFORM [SNPS PASSING QC]  \\\n",
       "0    [0.03-0.05] (unit increase)  Illumina & Affymetrix [2,441,815] (imputed)   \n",
       "1  [0.038-0.062] (unit increase)  Illumina & Affymetrix [2,441,815] (imputed)   \n",
       "2  [0.038-0.062] (unit increase)  Illumina & Affymetrix [2,441,815] (imputed)   \n",
       "3    [0.02-0.04] (unit increase)  Illumina & Affymetrix [2,441,815] (imputed)   \n",
       "4    [0.02-0.04] (unit increase)  Illumina & Affymetrix [2,441,815] (imputed)   \n",
       "\n",
       "  CNV     MAPPED_TRAIT                      MAPPED_TRAIT_URI  \n",
       "0   N  age at menarche  http://www.ebi.ac.uk/efo/EFO_0004703  \n",
       "1   N  age at menarche  http://www.ebi.ac.uk/efo/EFO_0004703  \n",
       "2   N  age at menarche  http://www.ebi.ac.uk/efo/EFO_0004703  \n",
       "3   N  age at menarche  http://www.ebi.ac.uk/efo/EFO_0004703  \n",
       "4   N  age at menarche  http://www.ebi.ac.uk/efo/EFO_0004703  \n",
       "\n",
       "[5 rows x 36 columns]"
      ]
     },
     "execution_count": 3,
     "metadata": {},
     "output_type": "execute_result"
    }
   ],
   "source": [
    "ebi_df.head()"
   ]
  },
  {
   "cell_type": "code",
   "execution_count": 4,
   "metadata": {
    "collapsed": false
   },
   "outputs": [],
   "source": [
    "# Create a uri_df (for cross-references)\n",
    "rows = list()\n",
    "for uri in filter(pandas.notnull, set(ebi_df['MAPPED_TRAIT_URI'])):\n",
    "    head, tail = uri.rsplit('/', 1)\n",
    "    resource, resource_id = tail.split('_', 1)\n",
    "    rows.append([uri, resource, resource_id])\n",
    "    \n",
    "uri_df = pandas.DataFrame(rows, columns=['MAPPED_TRAIT_URI', 'resource', 'resource_id'])"
   ]
  },
  {
   "cell_type": "code",
   "execution_count": 5,
   "metadata": {
    "collapsed": false
   },
   "outputs": [],
   "source": [
    "# Read DO Slim propagated cross-references\n",
    "url = 'https://raw.githubusercontent.com/dhimmel/disease-ontology/72614ade9f1cc5a5317b8f6836e1e464b31d5587/data/xrefs-prop-slim.tsv'\n",
    "doxref_df = pandas.read_table(url)"
   ]
  },
  {
   "cell_type": "code",
   "execution_count": 6,
   "metadata": {
    "collapsed": false
   },
   "outputs": [
    {
     "data": {
      "text/plain": [
       "10342"
      ]
     },
     "execution_count": 6,
     "metadata": {},
     "output_type": "execute_result"
    }
   ],
   "source": [
    "# Inner join the GWAS catalog with the DO slim mapping \n",
    "map_df = uri_df.merge(doxref_df)\n",
    "map_df = map_df[['MAPPED_TRAIT_URI', 'doid_code', 'doid_name']]\n",
    "ebi_df = ebi_df.merge(map_df)\n",
    "len(ebi_df)"
   ]
  },
  {
   "cell_type": "code",
   "execution_count": 7,
   "metadata": {
    "collapsed": false
   },
   "outputs": [
    {
     "data": {
      "text/plain": [
       "Index(['DATE ADDED TO CATALOG', 'PUBMEDID', 'FIRST AUTHOR', 'DATE', 'JOURNAL',\n",
       "       'LINK', 'STUDY', 'DISEASE/TRAIT', 'INITIAL SAMPLE DESCRIPTION',\n",
       "       'REPLICATION SAMPLE DESCRIPTION', 'REGION', 'CHR_ID', 'CHR_POS',\n",
       "       'REPORTED GENE(S)', 'MAPPED_GENE', 'UPSTREAM_GENE_ID',\n",
       "       'DOWNSTREAM_GENE_ID', 'SNP_GENE_IDS', 'UPSTREAM_GENE_DISTANCE',\n",
       "       'DOWNSTREAM_GENE_DISTANCE', 'STRONGEST SNP-RISK ALLELE', 'SNPS',\n",
       "       'MERGED', 'SNP_ID_CURRENT', 'CONTEXT', 'INTERGENIC',\n",
       "       'RISK ALLELE FREQUENCY', 'P-VALUE', 'PVALUE_MLOG', 'P-VALUE (TEXT)',\n",
       "       'OR or BETA', '95% CI (TEXT)', 'PLATFORM [SNPS PASSING QC]', 'CNV',\n",
       "       'MAPPED_TRAIT', 'MAPPED_TRAIT_URI', 'doid_code', 'doid_name'],\n",
       "      dtype='object')"
      ]
     },
     "execution_count": 7,
     "metadata": {},
     "output_type": "execute_result"
    }
   ],
   "source": [
    "# Show all ebi_df columns\n",
    "ebi_df.columns"
   ]
  },
  {
   "cell_type": "code",
   "execution_count": 9,
   "metadata": {
    "collapsed": false
   },
   "outputs": [
    {
     "data": {
      "text/plain": [
       "5255"
      ]
     },
     "execution_count": 9,
     "metadata": {},
     "output_type": "execute_result"
    }
   ],
   "source": [
    "# Write all lead SNPs for SNAP input\n",
    "gwas_snps = set('rs{}'.format(x) for x in ebi_df.SNP_ID_CURRENT if pandas.notnull(x))\n",
    "with open('data/snap/do-slim-lead-SNPs.txt', 'w') as write_file:\n",
    "    write_file.write('\\n'.join(gwas_snps))\n",
    "len(gwas_snps)"
   ]
  },
  {
   "cell_type": "code",
   "execution_count": null,
   "metadata": {
    "collapsed": false
   },
   "outputs": [],
   "source": []
  }
 ],
 "metadata": {
  "kernelspec": {
   "display_name": "Python 3",
   "language": "python",
   "name": "python3"
  },
  "language_info": {
   "codemirror_mode": {
    "name": "ipython",
    "version": 3
   },
   "file_extension": ".py",
   "mimetype": "text/x-python",
   "name": "python",
   "nbconvert_exporter": "python",
   "pygments_lexer": "ipython3",
   "version": "3.4.3"
  }
 },
 "nbformat": 4,
 "nbformat_minor": 0
}
